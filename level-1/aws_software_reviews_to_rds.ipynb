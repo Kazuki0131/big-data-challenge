{
 "cells": [
  {
   "cell_type": "code",
   "execution_count": 0,
   "metadata": {
    "colab": {},
    "colab_type": "code",
    "id": "Y6pz7LGh_L1p"
   },
   "outputs": [],
   "source": [
    "# Install Java, Spark, and Findspark\n",
    "!apt-get install openjdk-8-jdk-headless -qq > /dev/null\n",
    "!wget -q http://www-us.apache.org/dist/spark/spark-2.4.5/spark-2.4.5-bin-hadoop2.7.tgz\n",
    "!tar xf spark-2.4.5-bin-hadoop2.7.tgz\n",
    "!pip install -q findspark\n",
    "\n",
    "# Set Environment Variables\n",
    "import os\n",
    "os.environ[\"JAVA_HOME\"] = \"/usr/lib/jvm/java-8-openjdk-amd64\"\n",
    "os.environ[\"SPARK_HOME\"] = \"/content/spark-2.4.5-bin-hadoop2.7\"\n",
    "\n",
    "# Start a SparkSession\n",
    "import findspark\n",
    "findspark.init()"
   ]
  },
  {
   "cell_type": "code",
   "execution_count": 7,
   "metadata": {
    "colab": {
     "base_uri": "https://localhost:8080/",
     "height": 204
    },
    "colab_type": "code",
    "id": "kO5L-tApyHey",
    "outputId": "d2d834df-6dc2-4570-b29b-2deda18469ab"
   },
   "outputs": [
    {
     "name": "stdout",
     "output_type": "stream",
     "text": [
      "--2020-05-18 03:22:11--  https://jdbc.postgresql.org/download/postgresql-42.2.9.jar\n",
      "Resolving jdbc.postgresql.org (jdbc.postgresql.org)... 72.32.157.228, 2001:4800:3e1:1::228\n",
      "Connecting to jdbc.postgresql.org (jdbc.postgresql.org)|72.32.157.228|:443... connected.\n",
      "HTTP request sent, awaiting response... 200 OK\n",
      "Length: 914037 (893K) [application/java-archive]\n",
      "Saving to: ‘postgresql-42.2.9.jar.1’\n",
      "\n",
      "\r",
      "postgresql-42.2.9.j   0%[                    ]       0  --.-KB/s               \r",
      "postgresql-42.2.9.j 100%[===================>] 892.61K  4.78MB/s    in 0.2s    \n",
      "\n",
      "2020-05-18 03:22:12 (4.78 MB/s) - ‘postgresql-42.2.9.jar.1’ saved [914037/914037]\n",
      "\n"
     ]
    }
   ],
   "source": [
    "!wget https://jdbc.postgresql.org/download/postgresql-42.2.9.jar"
   ]
  },
  {
   "cell_type": "code",
   "execution_count": 0,
   "metadata": {
    "colab": {},
    "colab_type": "code",
    "id": "aJthFqMxyHe2"
   },
   "outputs": [],
   "source": [
    "from pyspark.sql import SparkSession\n",
    "spark = SparkSession.builder.appName(\"CloudETL\").config(\"spark.driver.extraClassPath\",\"/content/postgresql-42.2.9.jar\").getOrCreate()"
   ]
  },
  {
   "cell_type": "code",
   "execution_count": 10,
   "metadata": {
    "colab": {
     "base_uri": "https://localhost:8080/",
     "height": 309
    },
    "colab_type": "code",
    "id": "oXoXRVFPFCK4",
    "outputId": "cfd934cd-dca4-456e-891b-6905d09c3357"
   },
   "outputs": [
    {
     "name": "stdout",
     "output_type": "stream",
     "text": [
      "+-----------+-----------+--------------+----------+--------------+--------------------+----------------+-----------+-------------+-----------+----+-----------------+--------------------+--------------------+-------------------+\n",
      "|marketplace|customer_id|     review_id|product_id|product_parent|       product_title|product_category|star_rating|helpful_votes|total_votes|vine|verified_purchase|     review_headline|         review_body|        review_date|\n",
      "+-----------+-----------+--------------+----------+--------------+--------------------+----------------+-----------+-------------+-----------+----+-----------------+--------------------+--------------------+-------------------+\n",
      "|         US|   42605767|R3EFW2STIYIY0I|B00MUTIDKI|     248732228|McAfee 2015 Inter...|        Software|          1|            2|          2|   N|                Y|I was very disapp...|I was very disapp...|2015-08-31 00:00:00|\n",
      "|         US|   51771800|R12NR0R5A9F7FT|B00EPACNUG|     531462352|Hallmark Card Stu...|        Software|          5|            0|          0|   N|                Y|          Five Stars|I had a little st...|2015-08-31 00:00:00|\n",
      "|         US|   16053526|R1LSH74R9XAP59|B00164AZA4|     473982505| Search and Rescue 4|        Software|          2|            0|          1|   N|                Y|    Have windows 10?|Tried to download...|2015-08-31 00:00:00|\n",
      "|         US|   15319481|R1QXUNTF76K7L6|B00E6LIEFM|     189774198|      Quickbooks Pro|        Software|          2|            0|          0|   N|                Y|Disc was corrupt,...|Disc was corrupt,...|2015-08-31 00:00:00|\n",
      "|         US|    1441820|R2F7DR75PS8NKT|B00VWEBG06|     852470365|Windows 7 Profess...|        Software|          5|            0|          0|   N|                Y|          Five Stars|Just what I neede...|2015-08-31 00:00:00|\n",
      "|         US|   37107850|R2C1DJSCC8UFS6|B00EP7AP7C|     279360628|Family Tree Maker...|        Software|          3|            0|          0|   N|                Y|         Three Stars|Didn't like havin...|2015-08-31 00:00:00|\n",
      "|         US|     302120|R1AXGS1W4YFXMX|B00OW2PET4|     729971168|World of Farming:...|        Software|          1|            0|          2|   N|                Y|            One Star|it does not work ...|2015-08-31 00:00:00|\n",
      "|         US|   20193077|R1XU1B93402SYJ|B00N4OLCRO|     776572654|Photoshop Element...|        Software|          1|            1|          1|   N|                Y|Can't load to my ...|I have tried for ...|2015-08-31 00:00:00|\n",
      "|         US|   13106017|R2U432NB3OPVR0|B005CELN8W|     222071424|Phantom EFX WMS S...|        Software|          5|            0|          0|   N|                Y|          Five Stars|       love the game|2015-08-31 00:00:00|\n",
      "|         US|   32587108|R3R6FIMIOQ5SP9|B005CELL1G|     168801430|PaperPort Profess...|        Software|          5|            0|          0|   N|                Y|Meets our small b...|Great software. A...|2015-08-31 00:00:00|\n",
      "+-----------+-----------+--------------+----------+--------------+--------------------+----------------+-----------+-------------+-----------+----+-----------------+--------------------+--------------------+-------------------+\n",
      "only showing top 10 rows\n",
      "\n"
     ]
    }
   ],
   "source": [
    "#load video game reviews data from s3.amazonaws.com\n",
    "from pyspark import SparkFiles\n",
    "url = \"https://s3.amazonaws.com/amazon-reviews-pds/tsv/amazon_reviews_us_Software_v1_00.tsv.gz\"\n",
    "\n",
    "spark.sparkContext.addFile(url)\n",
    "\n",
    "software_df = spark.read.option(\"header\",\"true\").csv(SparkFiles.get(\"amazon_reviews_us_Software_v1_00.tsv.gz\"), inferSchema=True, sep=\"\\t\")\n",
    "\n",
    "software_df.show(10)"
   ]
  },
  {
   "cell_type": "markdown",
   "metadata": {
    "colab_type": "text",
    "id": "kdtKPZ1w_V3e"
   },
   "source": [
    "## Drop duplicates and incomplete rows"
   ]
  },
  {
   "cell_type": "code",
   "execution_count": 11,
   "metadata": {
    "colab": {
     "base_uri": "https://localhost:8080/",
     "height": 68
    },
    "colab_type": "code",
    "id": "10qoqQv3_Y_w",
    "outputId": "d7da81f6-3048-43f5-faf1-58e8dfa76c85"
   },
   "outputs": [
    {
     "name": "stdout",
     "output_type": "stream",
     "text": [
      "341931\n",
      "341913\n",
      "341913\n"
     ]
    }
   ],
   "source": [
    "#drop duplicates and incomplete rows\n",
    "print(software_df.count())\n",
    "software_df = software_df.dropna()\n",
    "print(software_df.count())\n",
    "software_df = software_df.dropDuplicates()\n",
    "#show total counts of reviews after dropping duplicates and incomplete rows\n",
    "print(software_df.count())"
   ]
  },
  {
   "cell_type": "markdown",
   "metadata": {
    "colab_type": "text",
    "id": "GAgvBYkG_awE"
   },
   "source": [
    "## Examine the schema"
   ]
  },
  {
   "cell_type": "code",
   "execution_count": 12,
   "metadata": {
    "colab": {
     "base_uri": "https://localhost:8080/",
     "height": 306
    },
    "colab_type": "code",
    "id": "SXtPi-Hw_dCe",
    "outputId": "9c72a985-f135-4cbd-ded1-de54d63cb342"
   },
   "outputs": [
    {
     "name": "stdout",
     "output_type": "stream",
     "text": [
      "root\n",
      " |-- marketplace: string (nullable = true)\n",
      " |-- customer_id: integer (nullable = true)\n",
      " |-- review_id: string (nullable = true)\n",
      " |-- product_id: string (nullable = true)\n",
      " |-- product_parent: integer (nullable = true)\n",
      " |-- product_title: string (nullable = true)\n",
      " |-- product_category: string (nullable = true)\n",
      " |-- star_rating: integer (nullable = true)\n",
      " |-- helpful_votes: integer (nullable = true)\n",
      " |-- total_votes: integer (nullable = true)\n",
      " |-- vine: string (nullable = true)\n",
      " |-- verified_purchase: string (nullable = true)\n",
      " |-- review_headline: string (nullable = true)\n",
      " |-- review_body: string (nullable = true)\n",
      " |-- review_date: timestamp (nullable = true)\n",
      "\n"
     ]
    }
   ],
   "source": [
    "software_df.printSchema()"
   ]
  },
  {
   "cell_type": "markdown",
   "metadata": {
    "colab_type": "text",
    "id": "AbG7CtSA_gfw"
   },
   "source": [
    "## Create a new DataFrame for vine reviews info"
   ]
  },
  {
   "cell_type": "code",
   "execution_count": 13,
   "metadata": {
    "colab": {
     "base_uri": "https://localhost:8080/",
     "height": 289
    },
    "colab_type": "code",
    "id": "saJ1WiZb_ik6",
    "outputId": "cc242cc5-4c4b-4aba-fb4b-c46bd86136bd"
   },
   "outputs": [
    {
     "name": "stdout",
     "output_type": "stream",
     "text": [
      "+--------------+-----------+-------------+-----------+----+\n",
      "|     review_id|star_rating|helpful_votes|total_votes|vine|\n",
      "+--------------+-----------+-------------+-----------+----+\n",
      "|R2C2BVCJT25XGE|          5|            0|          0|   N|\n",
      "| R15FOVYL149WE|          1|            1|          2|   N|\n",
      "|R1GAZQX4IY4XXI|          5|            1|          1|   N|\n",
      "| RIETOLYTNWF90|          3|            0|          0|   N|\n",
      "|R20CXVX1V4BZDW|          5|            0|          0|   N|\n",
      "|R12IN3O6THHVUX|          4|            0|          0|   N|\n",
      "|R3RG7V3APCIF9A|          5|            0|          0|   N|\n",
      "|R3VY6PQJZQE25Y|          5|            0|          1|   N|\n",
      "| R91T2APEVHHF2|          5|            0|          0|   N|\n",
      "|R16TJZM1ED2QOU|          1|            1|          1|   N|\n",
      "+--------------+-----------+-------------+-----------+----+\n",
      "only showing top 10 rows\n",
      "\n"
     ]
    }
   ],
   "source": [
    "vine_reviews = software_df.select([\"review_id\",\"star_rating\",\"helpful_votes\",\"total_votes\",\"vine\"])\n",
    "vine_reviews.show(10)"
   ]
  },
  {
   "cell_type": "code",
   "execution_count": 14,
   "metadata": {
    "colab": {
     "base_uri": "https://localhost:8080/",
     "height": 306
    },
    "colab_type": "code",
    "id": "x72TE5ZJ0mt4",
    "outputId": "18488e08-8700-43b7-e664-a8063d345e4f"
   },
   "outputs": [
    {
     "name": "stdout",
     "output_type": "stream",
     "text": [
      "10415\n",
      "+--------------+-----------+-------------+-----------+----+\n",
      "|     review_id|star_rating|helpful_votes|total_votes|vine|\n",
      "+--------------+-----------+-------------+-----------+----+\n",
      "|R1P0EO605W4X4E|          4|            1|          2|   Y|\n",
      "|R2C6QMNTMOEWO1|          5|            2|         15|   Y|\n",
      "| RKS9UBOIVBWAS|          4|            1|          2|   Y|\n",
      "| R3P0YB3905OX1|          5|            2|          2|   Y|\n",
      "|R1PT5SI2DVKACS|          5|            1|          1|   Y|\n",
      "|R1H43S0F8CD17E|          1|            5|          5|   Y|\n",
      "|R2L43434P0K0VT|          5|            0|          0|   Y|\n",
      "|R35ZJHQME3IR49|          5|           49|         51|   Y|\n",
      "|R1LJO7L4Y1N452|          5|            5|          8|   Y|\n",
      "|R1XI4RP8200IMK|          1|           44|         48|   Y|\n",
      "+--------------+-----------+-------------+-----------+----+\n",
      "only showing top 10 rows\n",
      "\n"
     ]
    }
   ],
   "source": [
    "#select vine reviews\n",
    "vine_reviews_yes = vine_reviews.filter(vine_reviews[\"vine\"]==\"Y\")\n",
    "#show the total count of vine reviews\n",
    "print(vine_reviews_yes.count())\n",
    "vine_reviews_yes.show(10)"
   ]
  },
  {
   "cell_type": "markdown",
   "metadata": {
    "colab_type": "text",
    "id": "0PDvBiVN_jGe"
   },
   "source": [
    "## Write DataFrame to RDS"
   ]
  },
  {
   "cell_type": "code",
   "execution_count": 0,
   "metadata": {
    "colab": {},
    "colab_type": "code",
    "id": "fOIS3viE_leJ"
   },
   "outputs": [],
   "source": [
    "#replace <your ...> with your database connection information\n",
    "mode=\"append\"\n",
    "jdbc_url = \"jdbc:postgresql://<your connection string>:5432/<your database-name>\"\n",
    "config = {\"user\":\"<your database user>\",\n",
    "          \"password\": \"<your database password>\",\n",
    "          \"driver\":\"org.postgresql.Driver\"}"
   ]
  },
  {
   "cell_type": "code",
   "execution_count": 0,
   "metadata": {
    "colab": {},
    "colab_type": "code",
    "id": "K6_O84CK_nV5"
   },
   "outputs": [],
   "source": [
    "vine_reviews_yes.write.jdbc(url=jdbc_url, table='software_vine_reviews', mode=mode, properties=config)"
   ]
  },
  {
   "cell_type": "code",
   "execution_count": 0,
   "metadata": {
    "colab": {},
    "colab_type": "code",
    "id": "C4KlGEtq1wJu"
   },
   "outputs": [],
   "source": []
  }
 ],
 "metadata": {
  "colab": {
   "collapsed_sections": [],
   "name": "amazon_reviews_software_rds.ipynb",
   "provenance": []
  },
  "kernelspec": {
   "display_name": "Python 3",
   "language": "python",
   "name": "python3"
  },
  "language_info": {
   "codemirror_mode": {
    "name": "ipython",
    "version": 3
   },
   "file_extension": ".py",
   "mimetype": "text/x-python",
   "name": "python",
   "nbconvert_exporter": "python",
   "pygments_lexer": "ipython3",
   "version": "3.7.3"
  },
  "latex_envs": {
   "LaTeX_envs_menu_present": true,
   "autoclose": false,
   "autocomplete": true,
   "bibliofile": "biblio.bib",
   "cite_by": "apalike",
   "current_citInitial": 1,
   "eqLabelWithNumbers": true,
   "eqNumInitial": 1,
   "hotkeys": {
    "equation": "Ctrl-E",
    "itemize": "Ctrl-I"
   },
   "labels_anchors": false,
   "latex_user_defs": false,
   "report_style_numbering": false,
   "user_envs_cfg": false
  }
 },
 "nbformat": 4,
 "nbformat_minor": 1
}

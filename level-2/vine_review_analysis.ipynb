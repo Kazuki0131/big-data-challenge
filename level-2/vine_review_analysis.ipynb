{
 "cells": [
  {
   "cell_type": "code",
   "execution_count": 0,
   "metadata": {
    "colab": {},
    "colab_type": "code",
    "id": "Y6pz7LGh_L1p"
   },
   "outputs": [],
   "source": [
    "# Install Java, Spark, and Findspark\n",
    "!apt-get install openjdk-8-jdk-headless -qq > /dev/null\n",
    "!wget -q http://www-us.apache.org/dist/spark/spark-2.4.5/spark-2.4.5-bin-hadoop2.7.tgz\n",
    "!tar xf spark-2.4.5-bin-hadoop2.7.tgz\n",
    "!pip install -q findspark\n",
    "\n",
    "# Set Environment Variables\n",
    "import os\n",
    "os.environ[\"JAVA_HOME\"] = \"/usr/lib/jvm/java-8-openjdk-amd64\"\n",
    "os.environ[\"SPARK_HOME\"] = \"/content/spark-2.4.5-bin-hadoop2.7\"\n",
    "\n",
    "# Start a SparkSession\n",
    "import findspark\n",
    "findspark.init()"
   ]
  },
  {
   "cell_type": "code",
   "execution_count": 2,
   "metadata": {
    "colab": {
     "base_uri": "https://localhost:8080/",
     "height": 204
    },
    "colab_type": "code",
    "id": "kO5L-tApyHey",
    "outputId": "44000b20-6e81-4905-849b-7b545a70e7d5"
   },
   "outputs": [
    {
     "name": "stdout",
     "output_type": "stream",
     "text": [
      "--2020-05-18 05:35:47--  https://jdbc.postgresql.org/download/postgresql-42.2.9.jar\n",
      "Resolving jdbc.postgresql.org (jdbc.postgresql.org)... 72.32.157.228, 2001:4800:3e1:1::228\n",
      "Connecting to jdbc.postgresql.org (jdbc.postgresql.org)|72.32.157.228|:443... connected.\n",
      "HTTP request sent, awaiting response... 200 OK\n",
      "Length: 914037 (893K) [application/java-archive]\n",
      "Saving to: ‘postgresql-42.2.9.jar’\n",
      "\n",
      "postgresql-42.2.9.j 100%[===================>] 892.61K  1.05MB/s    in 0.8s    \n",
      "\n",
      "2020-05-18 05:35:49 (1.05 MB/s) - ‘postgresql-42.2.9.jar’ saved [914037/914037]\n",
      "\n"
     ]
    }
   ],
   "source": [
    "!wget https://jdbc.postgresql.org/download/postgresql-42.2.9.jar"
   ]
  },
  {
   "cell_type": "code",
   "execution_count": 0,
   "metadata": {
    "colab": {},
    "colab_type": "code",
    "id": "aJthFqMxyHe2"
   },
   "outputs": [],
   "source": [
    "from pyspark.sql import SparkSession\n",
    "spark = SparkSession.builder.appName(\"CloudETL\").config(\"spark.driver.extraClassPath\",\"/content/postgresql-42.2.9.jar\").getOrCreate()"
   ]
  },
  {
   "cell_type": "code",
   "execution_count": 0,
   "metadata": {
    "colab": {},
    "colab_type": "code",
    "id": "Cui5AHuZSDRc"
   },
   "outputs": [],
   "source": [
    "#replace <your ...> with your database connection information\n",
    "jdbc_url = \"jdbc:postgresql://<your connection string>:5432/<your database-name>\"\n",
    "config = {\"user\":\"<your database user>\",\n",
    "          \"password\": \"<your database password>\",\n",
    "          \"driver\":\"org.postgresql.Driver\"}"
   ]
  },
  {
   "cell_type": "code",
   "execution_count": 5,
   "metadata": {
    "colab": {
     "base_uri": "https://localhost:8080/",
     "height": 289
    },
    "colab_type": "code",
    "id": "3ibEqJqoSzLP",
    "outputId": "666a30af-5579-4cd8-ddd0-61cd0579eefb"
   },
   "outputs": [
    {
     "name": "stdout",
     "output_type": "stream",
     "text": [
      "+--------------+-----------+-------------+-----------+----+\n",
      "|     review_id|star_rating|helpful_votes|total_votes|vine|\n",
      "+--------------+-----------+-------------+-----------+----+\n",
      "|R2XVQGWM2ZBPVC|          2|            0|          1|   Y|\n",
      "| RY4HCU6JP68XV|          4|            3|          4|   Y|\n",
      "| RP4G580BS1BUW|          3|            3|          5|   Y|\n",
      "| R7UVLCPUNNEH5|          5|            0|          0|   Y|\n",
      "|R2KC8PGKFPTDZE|          5|            0|          0|   Y|\n",
      "| R86E4NB1M93UD|          5|            0|          0|   Y|\n",
      "|R3DG8ASP4P2BYH|          3|            0|          0|   Y|\n",
      "|R23DJKDOCX97I0|          1|            0|          0|   Y|\n",
      "|R2PJOCRWZX4RQZ|          2|            1|          2|   Y|\n",
      "|R2RRO66EPNH0SB|          5|            3|         15|   Y|\n",
      "+--------------+-----------+-------------+-----------+----+\n",
      "only showing top 10 rows\n",
      "\n"
     ]
    }
   ],
   "source": [
    "video_game_reviews = spark.read.jdbc(url=jdbc_url,table=\"video_game_vine_reviews\", properties=config)\n",
    "video_game_reviews.show(10)"
   ]
  },
  {
   "cell_type": "code",
   "execution_count": 9,
   "metadata": {
    "colab": {
     "base_uri": "https://localhost:8080/",
     "height": 289
    },
    "colab_type": "code",
    "id": "9dSMXto9Te6e",
    "outputId": "cf1fe6b0-3dac-4a0f-ea9d-a9b26d15bc72"
   },
   "outputs": [
    {
     "name": "stdout",
     "output_type": "stream",
     "text": [
      "+--------------+-----------+-------------+-----------+----+\n",
      "|     review_id|star_rating|helpful_votes|total_votes|vine|\n",
      "+--------------+-----------+-------------+-----------+----+\n",
      "|R1P0EO605W4X4E|          4|            1|          2|   Y|\n",
      "|R2C6QMNTMOEWO1|          5|            2|         15|   Y|\n",
      "| RKS9UBOIVBWAS|          4|            1|          2|   Y|\n",
      "| R3P0YB3905OX1|          5|            2|          2|   Y|\n",
      "|R1PT5SI2DVKACS|          5|            1|          1|   Y|\n",
      "|R1H43S0F8CD17E|          1|            5|          5|   Y|\n",
      "|R2L43434P0K0VT|          5|            0|          0|   Y|\n",
      "|R35ZJHQME3IR49|          5|           49|         51|   Y|\n",
      "|R1LJO7L4Y1N452|          5|            5|          8|   Y|\n",
      "|R1XI4RP8200IMK|          1|           44|         48|   Y|\n",
      "+--------------+-----------+-------------+-----------+----+\n",
      "only showing top 10 rows\n",
      "\n"
     ]
    }
   ],
   "source": [
    "software_reviews = spark.read.jdbc(url=jdbc_url, table=\"software_vine_reviews\", properties=config)\n",
    "software_reviews.show(10)"
   ]
  },
  {
   "cell_type": "markdown",
   "metadata": {
    "colab_type": "text",
    "id": "_Or1RnPr_nzd"
   },
   "source": [
    "## Vine reviews analysis"
   ]
  },
  {
   "cell_type": "code",
   "execution_count": 10,
   "metadata": {
    "colab": {
     "base_uri": "https://localhost:8080/",
     "height": 187
    },
    "colab_type": "code",
    "id": "7mDI_Xg9_q8_",
    "outputId": "26a3d2a4-23a4-4373-c3c7-e271ea98928d"
   },
   "outputs": [
    {
     "name": "stdout",
     "output_type": "stream",
     "text": [
      "+-------+--------------+------------------+------------------+------------------+----+\n",
      "|summary|     review_id|       star_rating|     helpful_votes|       total_votes|vine|\n",
      "+-------+--------------+------------------+------------------+------------------+----+\n",
      "|  count|          4290|              4290|              4290|              4290|4290|\n",
      "|   mean|          null|4.0748251748251745| 2.348717948717949|3.2783216783216784|null|\n",
      "| stddev|          null|0.9183222304948375|12.580450532105276|13.769965761758117|null|\n",
      "|    min|R10079FVQQF194|                 1|                 0|                 0|   Y|\n",
      "|    max| RZXZZ98IW0F2G|                 5|               347|               362|   Y|\n",
      "+-------+--------------+------------------+------------------+------------------+----+\n",
      "\n"
     ]
    }
   ],
   "source": [
    "video_game_reviews.describe().show()"
   ]
  },
  {
   "cell_type": "code",
   "execution_count": 11,
   "metadata": {
    "colab": {
     "base_uri": "https://localhost:8080/",
     "height": 187
    },
    "colab_type": "code",
    "id": "wQKIX64lWMCB",
    "outputId": "d674ba42-17ae-4edf-9c5a-daad1adb849d"
   },
   "outputs": [
    {
     "name": "stdout",
     "output_type": "stream",
     "text": [
      "+-------+--------------+------------------+------------------+-----------------+-----+\n",
      "|summary|     review_id|       star_rating|     helpful_votes|      total_votes| vine|\n",
      "+-------+--------------+------------------+------------------+-----------------+-----+\n",
      "|  count|         10415|             10415|             10415|            10415|10415|\n",
      "|   mean|          null| 3.839174267882861|3.1916466634661544|3.871435429668747| null|\n",
      "| stddev|          null|1.1056021641842035| 24.91389719042119| 25.6265464330581| null|\n",
      "|    min|R1000QJKXGZITK|                 1|                 0|                0|    Y|\n",
      "|    max| RZZ8LCK0XZBRA|                 5|              1231|             1247|    Y|\n",
      "+-------+--------------+------------------+------------------+-----------------+-----+\n",
      "\n"
     ]
    }
   ],
   "source": [
    "software_reviews.describe().show()"
   ]
  },
  {
   "cell_type": "code",
   "execution_count": 36,
   "metadata": {
    "colab": {
     "base_uri": "https://localhost:8080/",
     "height": 459
    },
    "colab_type": "code",
    "id": "CNKz5FHg_uV9",
    "outputId": "ef820d51-9229-4736-e599-3df8d5fc9b80"
   },
   "outputs": [
    {
     "name": "stdout",
     "output_type": "stream",
     "text": [
      "+-------------+-----+----------+\n",
      "|helpful_votes|count|percentage|\n",
      "+-------------+-----+----------+\n",
      "|            0| 2314|    0.5394|\n",
      "|            1|  905|     0.211|\n",
      "|            2|  370|    0.0862|\n",
      "|            3|  201|    0.0469|\n",
      "|            4|  136|    0.0317|\n",
      "|            5|   69|    0.0161|\n",
      "|            6|   51|    0.0119|\n",
      "|            7|   40|    0.0093|\n",
      "|            8|   21|    0.0049|\n",
      "|           10|   18|    0.0042|\n",
      "|            9|   16|    0.0037|\n",
      "|           12|   14|    0.0033|\n",
      "|           11|   11|    0.0026|\n",
      "|           13|   10|    0.0023|\n",
      "|           16|    9|    0.0021|\n",
      "|           19|    7|    0.0016|\n",
      "|           14|    6|    0.0014|\n",
      "|           21|    6|    0.0014|\n",
      "|           15|    5|    0.0012|\n",
      "|           23|    5|    0.0012|\n",
      "+-------------+-----+----------+\n",
      "only showing top 20 rows\n",
      "\n"
     ]
    }
   ],
   "source": [
    "from pyspark.sql.functions import round\n",
    "video_game_reviews_count = video_game_reviews.count()\n",
    "video_game_helpful_vote = video_game_reviews.groupBy(\"helpful_votes\").count()\n",
    "video_game_helpful_vote = video_game_helpful_vote.orderBy(video_game_helpful_vote[\"count\"].desc())\n",
    "video_game_helpful_vote.withColumn('percentage', round(video_game_helpful_vote[\"count\"]/video_game_reviews_count,4)).show()"
   ]
  },
  {
   "cell_type": "code",
   "execution_count": 37,
   "metadata": {
    "colab": {
     "base_uri": "https://localhost:8080/",
     "height": 459
    },
    "colab_type": "code",
    "id": "Tvw--Ool_vju",
    "outputId": "010a9600-fa33-46ef-8452-ab4b4cc02406"
   },
   "outputs": [
    {
     "name": "stdout",
     "output_type": "stream",
     "text": [
      "+-------------+-----+----------+\n",
      "|helpful_votes|count|percentage|\n",
      "+-------------+-----+----------+\n",
      "|            0| 5054|    0.4853|\n",
      "|            1| 2315|    0.2223|\n",
      "|            2| 1069|    0.1026|\n",
      "|            3|  572|    0.0549|\n",
      "|            4|  347|    0.0333|\n",
      "|            5|  223|    0.0214|\n",
      "|            6|  147|    0.0141|\n",
      "|            7|  111|    0.0107|\n",
      "|            8|   65|    0.0062|\n",
      "|            9|   56|    0.0054|\n",
      "|           11|   50|    0.0048|\n",
      "|           10|   41|    0.0039|\n",
      "|           13|   24|    0.0023|\n",
      "|           14|   24|    0.0023|\n",
      "|           12|   24|    0.0023|\n",
      "|           15|   18|    0.0017|\n",
      "|           19|   16|    0.0015|\n",
      "|           16|   15|    0.0014|\n",
      "|           17|   13|    0.0012|\n",
      "|           23|   12|    0.0012|\n",
      "+-------------+-----+----------+\n",
      "only showing top 20 rows\n",
      "\n"
     ]
    }
   ],
   "source": [
    "software_reviews_count = software_reviews.count()\n",
    "software_helpful_vote = software_reviews.groupBy(\"helpful_votes\").count()\n",
    "software_helpful_vote = software_helpful_vote.orderBy(software_helpful_vote[\"count\"].desc())\n",
    "software_helpful_vote.withColumn('percentage', round(software_helpful_vote[\"count\"]/software_reviews_count,4)).show()"
   ]
  },
  {
   "cell_type": "code",
   "execution_count": 38,
   "metadata": {
    "colab": {
     "base_uri": "https://localhost:8080/",
     "height": 187
    },
    "colab_type": "code",
    "id": "WCgbXGKXgF91",
    "outputId": "dca34728-0a40-4190-ef7e-cced8f640081"
   },
   "outputs": [
    {
     "name": "stdout",
     "output_type": "stream",
     "text": [
      "+-----------+-----+----------+\n",
      "|star_rating|count|percentage|\n",
      "+-----------+-----+----------+\n",
      "|          4| 1711|    0.3988|\n",
      "|          5| 1607|    0.3746|\n",
      "|          3|  718|    0.1674|\n",
      "|          2|  194|    0.0452|\n",
      "|          1|   60|     0.014|\n",
      "+-----------+-----+----------+\n",
      "\n"
     ]
    }
   ],
   "source": [
    "video_game_star_rating = video_game_reviews.groupBy(\"star_rating\").count()\n",
    "video_game_star_rating = video_game_star_rating.orderBy(video_game_star_rating[\"count\"].desc())\n",
    "video_game_star_rating.withColumn('percentage', round(video_game_star_rating[\"count\"]/video_game_reviews_count,4)).show()"
   ]
  },
  {
   "cell_type": "code",
   "execution_count": 40,
   "metadata": {
    "colab": {
     "base_uri": "https://localhost:8080/",
     "height": 187
    },
    "colab_type": "code",
    "id": "bQ6uPPTRarOz",
    "outputId": "85f47895-dde4-4010-f9ff-68c6c14c95c2"
   },
   "outputs": [
    {
     "name": "stdout",
     "output_type": "stream",
     "text": [
      "+-----------+-----+----------+\n",
      "|star_rating|count|percentage|\n",
      "+-----------+-----+----------+\n",
      "|          4| 3755|    0.3605|\n",
      "|          5| 3381|    0.3246|\n",
      "|          3| 2006|    0.1926|\n",
      "|          2|  769|    0.0738|\n",
      "|          1|  504|    0.0484|\n",
      "+-----------+-----+----------+\n",
      "\n"
     ]
    }
   ],
   "source": [
    "software_star_rating = software_reviews.groupBy(\"star_rating\").count()\n",
    "software_star_rating = software_star_rating.orderBy(software_star_rating[\"count\"].desc())\n",
    "software_star_rating.withColumn('percentage', round(software_star_rating[\"count\"]/software_reviews_count,4)).show()"
   ]
  },
  {
   "cell_type": "code",
   "execution_count": 0,
   "metadata": {
    "colab": {},
    "colab_type": "code",
    "id": "hS5yMK1Jgdcu"
   },
   "outputs": [],
   "source": []
  }
 ],
 "metadata": {
  "colab": {
   "collapsed_sections": [],
   "name": "vine_review_analysis.ipynb",
   "provenance": []
  },
  "kernelspec": {
   "display_name": "Python 3",
   "language": "python",
   "name": "python3"
  },
  "language_info": {
   "codemirror_mode": {
    "name": "ipython",
    "version": 3
   },
   "file_extension": ".py",
   "mimetype": "text/x-python",
   "name": "python",
   "nbconvert_exporter": "python",
   "pygments_lexer": "ipython3",
   "version": "3.7.3"
  },
  "latex_envs": {
   "LaTeX_envs_menu_present": true,
   "autoclose": false,
   "autocomplete": true,
   "bibliofile": "biblio.bib",
   "cite_by": "apalike",
   "current_citInitial": 1,
   "eqLabelWithNumbers": true,
   "eqNumInitial": 1,
   "hotkeys": {
    "equation": "Ctrl-E",
    "itemize": "Ctrl-I"
   },
   "labels_anchors": false,
   "latex_user_defs": false,
   "report_style_numbering": false,
   "user_envs_cfg": false
  }
 },
 "nbformat": 4,
 "nbformat_minor": 1
}
